{
  "cells": [
    {
      "cell_type": "code",
      "execution_count": 1,
      "metadata": {
        "id": "F6JYxa02OhPs"
      },
      "outputs": [
        {
          "name": "stderr",
          "output_type": "stream",
          "text": [
            "2024-05-04 17:57:23.542186: I tensorflow/core/platform/cpu_feature_guard.cc:210] This TensorFlow binary is optimized to use available CPU instructions in performance-critical operations.\n",
            "To enable the following instructions: AVX2 FMA, in other operations, rebuild TensorFlow with the appropriate compiler flags.\n",
            "2024-05-04 17:57:26.774755: W tensorflow/compiler/tf2tensorrt/utils/py_utils.cc:38] TF-TRT Warning: Could not find TensorRT\n"
          ]
        }
      ],
      "source": [
        "import pandas as pd\n",
        "import numpy as np\n",
        "from sklearn.model_selection import train_test_split\n",
        "import numpy as np\n",
        "import tensorflow as tf\n",
        "from tensorflow.keras.models import Sequential\n",
        "from tensorflow.keras.layers import SimpleRNN, Dense\n",
        "from sklearn.preprocessing import MinMaxScaler\n",
        "import matplotlib.pyplot as plt\n",
        "import sys\n",
        "from tensorflow.keras.models import load_model\n",
        "from sklearn.metrics import mean_squared_error, mean_absolute_error\n",
        "from math import sqrt\n",
        "from preprocessing import clean"
      ]
    },
    {
      "cell_type": "code",
      "execution_count": 2,
      "metadata": {},
      "outputs": [],
      "source": [
        "df = pd.read_csv('data.csv')"
      ]
    },
    {
      "attachments": {},
      "cell_type": "markdown",
      "metadata": {},
      "source": [
        "# Data Preprocessing"
      ]
    },
    {
      "cell_type": "code",
      "execution_count": 3,
      "metadata": {
        "id": "weCJics5SXRe"
      },
      "outputs": [],
      "source": [
        "split_time = int(0.8*len(df))\n",
        "clean_df = clean(df)"
      ]
    },
    {
      "cell_type": "code",
      "execution_count": 8,
      "metadata": {},
      "outputs": [],
      "source": [
        "train = clean_df.iloc[:split_time]\n",
        "test = clean_df.iloc[split_time:]"
      ]
    },
    {
      "attachments": {},
      "cell_type": "markdown",
      "metadata": {},
      "source": [
        "# Design LSTM"
      ]
    },
    {
      "cell_type": "code",
      "execution_count": null,
      "metadata": {},
      "outputs": [],
      "source": [
        "#Create windowed data for LSTM\n",
        "def create_windowed_dataset(data, window_size, predshift, valcol, shuffle=1):\n",
        "    data_X = []\n",
        "    data_Y = []\n",
        "    for i in range(len(data) - window_size - predshift):\n",
        "      window = []\n",
        "      for col in valcol:\n",
        "        series = data[col]       \n",
        "        window.append(np.array(series[i:i+window_size]))\n",
        "      window = np.array(window).reshape(len(valcol)*window_size)\n",
        "      data_X.append(window)\n",
        "      data_Y.append(np.array(data[valcol[0]])[i+window_size+predshift-1])\n",
        "    data_X = np.array(data_X)\n",
        "    data_Y = np.array(data_Y)\n",
        "\n",
        "    indices = np.arange(len(data_X))\n",
        "    if shuffle:\n",
        "      np.random.shuffle(indices)\n",
        "    data_X = data_X[indices]\n",
        "    data_Y = data_Y[indices]\n",
        "\n",
        "    return data_X, data_Y.reshape(-1, 1)\n",
        "\n",
        "#Design and Run LSTM model\n",
        "def run_model(train, window_size, predshift, batch_size, valcol):\n",
        "    train_x, train_y = create_windowed_dataset(train, window_size, predshift, valcol, shuffle=1)\n",
        "    trainset = tf.data.Dataset.from_tensor_slices((train_x, train_y))\n",
        "    trainset = trainset.batch(batch_size).prefetch(1)\n",
        "    tf.keras.backend.clear_session()\n",
        "    tf.random.set_seed(51)\n",
        "    np.random.seed(51)\n",
        "\n",
        "    model = tf.keras.models.Sequential([\n",
        "    tf.keras.layers.LSTM(64, return_sequences=True, input_shape=(window_size*len(valcol), 1)),\n",
        "    tf.keras.layers.LSTM(32),\n",
        "    tf.keras.layers.Dense(1),\n",
        "    ])\n",
        "\n",
        "    optimizer = tf.keras.optimizers.SGD(learning_rate=5e-3, momentum=0.9)\n",
        "    model.compile(loss = tf.keras.losses.Huber(), optimizer=optimizer, metrics=[\"mae\"])\n",
        "    history = model.fit(trainset, epochs=50, verbose=0)\n",
        "    return model\n",
        "\n",
        "#Test LSTM model\n",
        "def test_model(origdata, test, model, window_size, predshift, valcol):\n",
        "    [test_x, test_y] = create_windowed_dataset(test, window_size, predshift, valcol, shuffle=0)\n",
        "    test_x = np.reshape(test_x, (test_x.shape[0], test_x.shape[1],1))\n",
        "    test_predictions = model.predict(test_x)\n",
        "    \n",
        "    rmse = sqrt(mean_squared_error(test_y, test_predictions))\n",
        "    mae = mean_absolute_error(test_y, test_predictions)\n",
        "    return rmse, mae, test_predictions"
      ]
    },
    {
      "attachments": {},
      "cell_type": "markdown",
      "metadata": {},
      "source": [
        "# Overview of forecasts (a={1,4,24}, w={2,8,24})"
      ]
    },
    {
      "cell_type": "code",
      "execution_count": 9,
      "metadata": {},
      "outputs": [],
      "source": [
        "window_size = [2, 8, 24]\n",
        "predshift = [1, 4, 24]\n",
        "batch_size = 32"
      ]
    },
    {
      "attachments": {},
      "cell_type": "markdown",
      "metadata": {},
      "source": [
        "## Modeled Data"
      ]
    },
    {
      "cell_type": "code",
      "execution_count": null,
      "metadata": {},
      "outputs": [],
      "source": [
        "m_RMSE = np.zeros((len(window_size), len(predshift)))\n",
        "m_MAE = np.zeros((len(window_size), len(predshift)))\n",
        "m_true_predictions = [[None for _ in range(len(window_size))] for _ in range(len(predshift))]\n",
        "valcol = ['foF2m', 'SSN', 'Kp', 'Dst', 'TEC']"
      ]
    },
    {
      "cell_type": "code",
      "execution_count": null,
      "metadata": {},
      "outputs": [],
      "source": [
        "for i, psh in enumerate(predshift):\n",
        "  for j, w in enumerate(window_size):\n",
        "    model = run_model(train, w, psh, batch_size, valcol)\n",
        "    m_RMSE[i][j], m_MAE[i][j], m_true_predictions[i][j] = test_model(clean_df, test, model, w, psh, valcol)"
      ]
    },
    {
      "cell_type": "code",
      "execution_count": null,
      "metadata": {},
      "outputs": [],
      "source": [
        "fig, ax = plt.subplots(1, len(predshift), figsize=(15, 5))\n",
        "t_index_plot = np.arange(1,test.shape[0],1)[0:72]\n",
        "test = np.array(test['foF2m'])\n",
        "for i, psh in enumerate(predshift):\n",
        "    ax[i].plot(t_index_plot, test[t_index_plot], 'k--')\n",
        "    for j, w in enumerate(window_size):\n",
        "        idx = np.arange(w+psh, test.shape[0],1)[0:72]\n",
        "        ax[i].plot(idx, m_true_predictions[i][j][0:72], label=f'w={w} RMSE={m_RMSE[i][j]:.2f} MAE={m_MAE[i][j]:.2f}')\n",
        "        ax[i].legend()\n",
        "        ax[i].grid()\n",
        "        ax[i].set_xlim(0,24*3)\n",
        "        ax[i].set_xlabel('Hour (Day 1-3 of Test Dataset)')\n",
        "        ax[i].set_ylabel('Modeled foF2 (MHz)')\n",
        "        ax[i].set_title(f'{psh} hour prediction')\n",
        "plt.show()"
      ]
    },
    {
      "attachments": {},
      "cell_type": "markdown",
      "metadata": {},
      "source": [
        "## Observed Data "
      ]
    },
    {
      "cell_type": "code",
      "execution_count": null,
      "metadata": {},
      "outputs": [],
      "source": [
        "o_RMSE = np.zeros((len(window_size), len(predshift)))\n",
        "o_MAE = np.zeros((len(window_size), len(predshift)))\n",
        "o_true_predictions = [[None for _ in range(len(window_size))] for _ in range(len(predshift))]\n",
        "valcol = ['foF2o', 'SSN', 'Kp', 'Dst', 'TEC']"
      ]
    },
    {
      "cell_type": "code",
      "execution_count": null,
      "metadata": {},
      "outputs": [],
      "source": [
        "for i, psh in enumerate(predshift):\n",
        "  for j, w in enumerate(window_size):\n",
        "    model = run_model(train, w, psh, batch_size, valcol)\n",
        "    o_RMSE[i][j], o_MAE[i][j], o_true_predictions[i][j] = test_model(clean_df, test, model, w, psh, valcol)"
      ]
    },
    {
      "cell_type": "code",
      "execution_count": null,
      "metadata": {},
      "outputs": [],
      "source": [
        "fig, ax = plt.subplots(1, len(predshift), figsize=(15, 5))\n",
        "t_index_plot = np.arange(1,test.shape[0],1)[0:72]\n",
        "test = np.array(test['foF2o'])\n",
        "for i, psh in enumerate(predshift):\n",
        "    ax[i].plot(t_index_plot, test[t_index_plot], 'k--')\n",
        "    for j, w in enumerate(window_size):\n",
        "        idx = np.arange(w+psh, test.shape[0],1)[0:72]\n",
        "        ax[i].plot(idx, o_true_predictions[i][j][0:72], label=f'w={w} RMSE={o_RMSE[i][j]:.2f} MAE={o_MAE[i][j]:.2f}')\n",
        "        ax[i].legend()\n",
        "        ax[i].grid()\n",
        "        ax[i].set_xlim(0,24*3)\n",
        "        ax[i].set_xlabel('Hour (Day 1-3 of Test Dataset)')\n",
        "        ax[i].set_ylabel('Observed foF2 (MHz)')\n",
        "        ax[i].set_title(f'{psh} hour prediction')\n",
        "plt.show()"
      ]
    },
    {
      "attachments": {},
      "cell_type": "markdown",
      "metadata": {},
      "source": [
        "# Window size VS forecasting # hours ahead"
      ]
    },
    {
      "cell_type": "code",
      "execution_count": null,
      "metadata": {},
      "outputs": [],
      "source": [
        "window_size = [3, 8, 13, 18, 23]\n",
        "predshift = [1, 7, 13, 19, 25]\n",
        "RMSE_m = np.zeros((len(window_size),len(window_size))) * np.nan\n",
        "RMSE_o = np.zeros((len(window_size),len(window_size))) * np.nan\n",
        "for ai,a in enumerate(predshift):\n",
        "  for wi,w in enumerate(window_size):\n",
        "    model_m = run_model(train, w, a, batch_size, ['foF2m', 'SSN', 'Kp', 'Dst', 'TEC'])\n",
        "    RMSE_m[ai][wi] = test_model(clean_df, test, model_m, w, a, ['foF2m', 'SSN', 'Kp', 'Dst', 'TEC'])[0]\n",
        "    model_o = run_model(train, w, a, batch_size, ['foF2o', 'SSN', 'Kp', 'Dst', 'TEC'])\n",
        "    RMSE_o[ai][wi] = test_model(clean_df, test, model_o, w, a, ['foF2o', 'SSN', 'Kp', 'Dst', 'TEC'])[0]\n"
      ]
    },
    {
      "cell_type": "code",
      "execution_count": null,
      "metadata": {},
      "outputs": [],
      "source": [
        "window_size = [3, 8, 13, 18, 23]\n",
        "predshift = [1, 7, 13, 19, 25]\n",
        "fig, (ax, ax2) = plt.subplots(1, 2, figsize=(10,5))\n",
        "\n",
        "cax = ax.contourf(RMSE_m, cmap='magma', interpolation='nearest')\n",
        "ax.set_xlabel('Window size (hours)')\n",
        "ax.set_ylabel('Forecasting # hours ahead')\n",
        "# ax.set_xticks(np.arange(RMSE_m.shape[1]), np.array(window_size))\n",
        "# ax.set_yticks(np.arange(RMSE_m.shape[0]), np.array(predshift))\n",
        "ax.set_title('Modeled foF2')\n",
        "fig.colorbar(cax)\n",
        "\n",
        "cax2 = ax2.contourf(RMSE_o, cmap='magma', interpolation='nearest')\n",
        "ax2.set_xlabel('Window size (hours)')\n",
        "ax2.set_ylabel('Forecasting # hours ahead')\n",
        "ax2.set_xticks(np.arange(RMSE_o.shape[1]), np.array(window_size))\n",
        "ax2.set_yticks(np.arange(RMSE_o.shape[0]), np.array(predshift))\n",
        "ax2.set_title('Observed foF2')\n",
        "fig.colorbar(cax2)\n",
        "fig.suptitle('Multivariate LSTM Test RMSE (MHz) - 1 hour forecast')\n",
        "plt.tight_layout()"
      ]
    },
    {
      "attachments": {},
      "cell_type": "markdown",
      "metadata": {},
      "source": [
        "# Window size VS hour of forecast"
      ]
    },
    {
      "cell_type": "code",
      "execution_count": null,
      "metadata": {},
      "outputs": [],
      "source": [
        "window_size = [3, 8, 13, 18, 23]\n",
        "day_hour = [3, 8, 13, 18, 23]\n",
        "RMSE_m = np.zeros((len(day_hour),len(window_size))) * np.nan\n",
        "RMSE_o = np.zeros((len(day_hour),len(window_size))) * np.nan\n",
        "for wi,w in enumerate(window_size):\n",
        "  model_m = run_model(train, w, 24, batch_size, ['foF2m', 'SSN', 'Kp', 'Dst', 'TEC'])\n",
        "  pred_m = test_model(clean_df, test, model_m, w, 24, ['foF2m', 'SSN', 'Kp', 'Dst', 'TEC'])[2]\n",
        "  RMSE_m[:,wi] = [sqrt(mean_squared_error(np.array(test['foF2m'])[24+w+h::24], pred_m[h::24])) for h in day_hour]\n",
        "  model_o = run_model(train, w, 24, batch_size, ['foF2m', 'SSN', 'Kp', 'Dst', 'TEC'])\n",
        "  pred_o = test_model(clean_df, test, model_o, w, 24, ['foF2o', 'SSN', 'Kp', 'Dst', 'TEC'])[2]\n",
        "  RMSE_o[:,wi] = [sqrt(mean_squared_error(np.array(test['foF2o'])[24+w+h::24], pred_o[h::24])) for h in day_hour]"
      ]
    },
    {
      "cell_type": "code",
      "execution_count": null,
      "metadata": {},
      "outputs": [],
      "source": [
        "fig, (ax, ax2) = plt.subplots(1, 2, figsize=(10,5))\n",
        "\n",
        "cax = ax.contourf(RMSE_m, cmap='magma', interpolation='nearest')\n",
        "ax.set_xlabel('Window size (hours)')\n",
        "ax.set_ylabel('Hour of Forecast')\n",
        "ax.set_xticks(np.arange(RMSE_m.shape[1]), np.array(window_size))\n",
        "ax.set_yticks(np.arange(RMSE_m.shape[0]), np.array(day_hour)[::-1])\n",
        "ax.set_title('Modeled foF2')\n",
        "fig.colorbar(cax)\n",
        "\n",
        "cax2 = ax2.contourf(RMSE_o, cmap='magma', interpolation='nearest')\n",
        "ax2.set_xlabel('Window size (hours)')\n",
        "ax2.set_ylabel('Hour of Forecast')\n",
        "ax2.set_xticks(np.arange(RMSE_o.shape[1]), np.array(window_size))\n",
        "ax2.set_yticks(np.arange(RMSE_o.shape[0]), np.array(day_hour)[::-1])\n",
        "ax2.set_title('Observed foF2')\n",
        "fig.colorbar(cax2)\n",
        "\n",
        "plt.suptitle('Multivariate LSTM foF2 Test RMSE (MHz)- 24 Hour Forecast')\n",
        "plt.tight_layout()"
      ]
    },
    {
      "attachments": {},
      "cell_type": "markdown",
      "metadata": {},
      "source": [
        "# Window size VS hour of forecast (daily windowing)"
      ]
    },
    {
      "cell_type": "code",
      "execution_count": null,
      "metadata": {},
      "outputs": [],
      "source": [
        "window_size = [2, 10, 18, 26, 34]\n",
        "day_hour = [3, 8, 13, 18, 23]\n",
        "RMSE_m = np.zeros((len(day_hour),len(window_size))) * np.nan\n",
        "RMSE_o = np.zeros((len(day_hour),len(window_size))) * np.nan\n",
        "\n",
        "for hi, h in enumerate(day_hour):\n",
        "  for wi,w in enumerate(window_size):\n",
        "    model_m = run_model(train[h::24], w, 1, batch_size, ['foF2m', 'SSN', 'Kp', 'Dst', 'TEC'])\n",
        "    pred_m = test_model(clean_df, test[h::24], model_m, w, 1, ['foF2m', 'SSN', 'Kp', 'Dst', 'TEC'])[2]\n",
        "    true_m = test.loc[h::24, 'foF2m']\n",
        "    RMSE_m[hi,wi] = sqrt(mean_squared_error(np.array(true_m)[w+1:], pred_m))\n",
        "    model_o = run_model(train[h::24], w, 1, batch_size, ['foF2o', 'SSN', 'Kp', 'Dst', 'TEC'])\n",
        "    pred_o = test_model(clean_df, test[h::24], model_o, w, 1, ['foF2o', 'SSN', 'Kp', 'Dst', 'TEC'])[2]\n",
        "    true_o = test.loc[h::24, 'foF2o']\n",
        "    RMSE_o[hi,wi] = sqrt(mean_squared_error(np.array(true_o)[w+1:], pred_o))\n",
        "\n",
        "np.savetxt('modeled3.txt', RMSE_m, fmt='%.2f')\n",
        "np.savetxt('observed3.txt', RMSE_o, fmt='%.2f')"
      ]
    },
    {
      "cell_type": "code",
      "execution_count": null,
      "metadata": {},
      "outputs": [],
      "source": [
        "fig, (ax, ax2) = plt.subplots(1, 2, figsize=(10,5))\n",
        "\n",
        "cax = ax.contourf(RMSE_m, cmap='magma', interpolation='nearest')\n",
        "ax.set_xlabel('Window size (days)')\n",
        "ax.set_ylabel('Hour of Forecast')\n",
        "ax.set_xticks(np.arange(RMSE_m.shape[1]), np.array(window_size))\n",
        "ax.set_yticks(np.arange(RMSE_m.shape[0]), np.array(day_hour))\n",
        "ax.set_title('Modeled foF2')\n",
        "fig.colorbar(cax)\n",
        "\n",
        "cax2 = ax2.contourf(RMSE_o, cmap='magma', interpolation='nearest')\n",
        "ax2.set_xlabel('Window size (days)')\n",
        "ax2.set_ylabel('Hour of Forecast')\n",
        "ax2.set_xticks(np.arange(RMSE_o.shape[1]), np.array(window_size))\n",
        "ax2.set_yticks(np.arange(RMSE_o.shape[0]), np.array(day_hour))\n",
        "ax2.set_title('Observed foF2')\n",
        "fig.colorbar(cax2)\n",
        "\n",
        "plt.suptitle('Multivariate LSTM foF2 Test RMSE (MHz)- 1 Day Forecast')"
      ]
    }
  ],
  "metadata": {
    "colab": {
      "provenance": []
    },
    "kernelspec": {
      "display_name": "Python 3",
      "name": "python3"
    },
    "language_info": {
      "codemirror_mode": {
        "name": "ipython",
        "version": 3
      },
      "file_extension": ".py",
      "mimetype": "text/x-python",
      "name": "python",
      "nbconvert_exporter": "python",
      "pygments_lexer": "ipython3",
      "version": "3.9.4"
    }
  },
  "nbformat": 4,
  "nbformat_minor": 0
}
